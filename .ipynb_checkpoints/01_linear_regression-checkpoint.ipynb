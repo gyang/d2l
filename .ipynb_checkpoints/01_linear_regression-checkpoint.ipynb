{
 "cells": [
  {
   "cell_type": "markdown",
   "id": "62100fb0-2326-4e7f-9786-bf2435db0c32",
   "metadata": {},
   "source": [
    "# import package"
   ]
  },
  {
   "cell_type": "code",
   "execution_count": 11,
   "id": "e05599a1-8ba1-433c-a240-45cee085ab8c",
   "metadata": {},
   "outputs": [],
   "source": [
    "import numpy as np\n",
    "import torch\n",
    "from torch import nn\n",
    "from torch.utils import data\n",
    "import random"
   ]
  },
  {
   "cell_type": "markdown",
   "id": "a1a2a667-933c-46a9-9777-83747283b36a",
   "metadata": {},
   "source": [
    "# mock data"
   ]
  },
  {
   "cell_type": "code",
   "execution_count": 3,
   "id": "30289e62-1972-49da-812e-f32c4566c2ec",
   "metadata": {},
   "outputs": [],
   "source": [
    "def synthetic_data(w, b, num_examples):\n",
    "    \"\"\"Generate y = Xw + b + noise.\n",
    "\n",
    "    Defined in :numref:`sec_utils`\"\"\"\n",
    "    X = torch.normal(0, 1, (num_examples, len(w)))\n",
    "    y = torch.matmul(X, w) + b\n",
    "    y += torch.normal(0, 0.01, y.shape)\n",
    "    return X, torch.reshape(y, (-1, 1))"
   ]
  },
  {
   "cell_type": "code",
   "execution_count": 5,
   "id": "ff54bf0b-70c3-4e92-bae4-b347a2ee4d8a",
   "metadata": {},
   "outputs": [],
   "source": [
    "true_w = torch.tensor([2, -3.4])\n",
    "true_b = 5.2\n",
    "features, labels = synthetic_data(true_w, true_b, 1000)"
   ]
  },
  {
   "cell_type": "markdown",
   "id": "ced38c62-1bda-4380-9b54-53a8a6aec1f1",
   "metadata": {},
   "source": [
    "# Read Data"
   ]
  },
  {
   "cell_type": "code",
   "execution_count": 9,
   "id": "194d0095-3eb6-4db9-93a6-ebaedfc4ae01",
   "metadata": {},
   "outputs": [],
   "source": [
    "def load_array(data_arrays, batch_size, is_train=True):  #@save\n",
    "    dataset = data.TensorDataset(*data_arrays)\n",
    "    return data.DataLoader(dataset, batch_size, shuffle=is_train)"
   ]
  },
  {
   "cell_type": "code",
   "execution_count": 14,
   "id": "feff46c0-cb99-4032-a39c-1b0ab3a9c969",
   "metadata": {},
   "outputs": [],
   "source": [
    "batch_size = 5\n",
    "data_iter = load_array((features, labels), batch_size)"
   ]
  },
  {
   "cell_type": "code",
   "execution_count": 15,
   "id": "cd7a40b9-175d-4ebe-8c9f-b2d2552e7556",
   "metadata": {},
   "outputs": [
    {
     "data": {
      "text/plain": [
       "[tensor([[-0.2321, -1.2915],\n",
       "         [-1.7050,  0.1462],\n",
       "         [ 0.4139,  1.3261],\n",
       "         [ 0.9568,  2.5847],\n",
       "         [-2.0720,  0.3708]]),\n",
       " tensor([[ 9.1275],\n",
       "         [ 1.2953],\n",
       "         [ 1.5285],\n",
       "         [-1.6646],\n",
       "         [-0.2106]])]"
      ]
     },
     "execution_count": 15,
     "metadata": {},
     "output_type": "execute_result"
    }
   ],
   "source": [
    "next(iter(data_iter))"
   ]
  },
  {
   "cell_type": "markdown",
   "id": "bd834929-ef42-4dff-ae75-3b1eeb9a5eac",
   "metadata": {},
   "source": [
    "# define model"
   ]
  },
  {
   "cell_type": "code",
   "execution_count": 16,
   "id": "ceb5e724-97c7-4ce6-a077-8f0acc7b6096",
   "metadata": {},
   "outputs": [],
   "source": [
    "net = nn.Sequential(nn.Linear(2, 1))"
   ]
  },
  {
   "cell_type": "markdown",
   "id": "d717f3bc-f2ec-440a-b1de-59219f909031",
   "metadata": {},
   "source": [
    "## init params"
   ]
  },
  {
   "cell_type": "code",
   "execution_count": 17,
   "id": "05c3d644-27a8-49a5-9b10-b8410ce811f3",
   "metadata": {},
   "outputs": [
    {
     "data": {
      "text/plain": [
       "tensor([0.])"
      ]
     },
     "execution_count": 17,
     "metadata": {},
     "output_type": "execute_result"
    }
   ],
   "source": [
    "net[0].weight.data.normal_(0, 0.01)\n",
    "net[0].bias.data.fill_(0)"
   ]
  },
  {
   "cell_type": "markdown",
   "id": "9a73b024-582d-4323-a5a8-7172f8763a56",
   "metadata": {},
   "source": [
    "## define loss"
   ]
  },
  {
   "cell_type": "code",
   "execution_count": 19,
   "id": "686f6352-add7-4001-acf3-66d59d441fa6",
   "metadata": {},
   "outputs": [],
   "source": [
    "loss = nn.MSELoss()"
   ]
  },
  {
   "cell_type": "markdown",
   "id": "1e1d3def-82c1-4313-86a6-c09bc7667106",
   "metadata": {},
   "source": [
    "## define optimizer"
   ]
  },
  {
   "cell_type": "code",
   "execution_count": 21,
   "id": "31fca922-21ed-4b70-af0d-fb8175a71c8c",
   "metadata": {},
   "outputs": [],
   "source": [
    "learning_rate = 0.03\n",
    "trainer = torch.optim.SGD(net.parameters(), lr=learning_rate)"
   ]
  },
  {
   "cell_type": "markdown",
   "id": "618fac32-5238-42da-8cae-2d0eea67535d",
   "metadata": {},
   "source": [
    "# train model"
   ]
  },
  {
   "cell_type": "code",
   "execution_count": null,
   "id": "bf7fc7c1-6976-4e6d-8157-9769934d7c70",
   "metadata": {},
   "outputs": [],
   "source": []
  }
 ],
 "metadata": {
  "kernelspec": {
   "display_name": "Python 3 (ipykernel)",
   "language": "python",
   "name": "python3"
  },
  "language_info": {
   "codemirror_mode": {
    "name": "ipython",
    "version": 3
   },
   "file_extension": ".py",
   "mimetype": "text/x-python",
   "name": "python",
   "nbconvert_exporter": "python",
   "pygments_lexer": "ipython3",
   "version": "3.9.19"
  }
 },
 "nbformat": 4,
 "nbformat_minor": 5
}
