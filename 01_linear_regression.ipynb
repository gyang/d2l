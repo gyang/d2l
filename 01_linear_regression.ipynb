{
 "cells": [
  {
   "cell_type": "markdown",
   "id": "62100fb0-2326-4e7f-9786-bf2435db0c32",
   "metadata": {},
   "source": [
    "# import package"
   ]
  },
  {
   "cell_type": "code",
   "execution_count": 1,
   "id": "e05599a1-8ba1-433c-a240-45cee085ab8c",
   "metadata": {},
   "outputs": [],
   "source": [
    "import numpy as np\n",
    "import torch\n",
    "from torch import nn\n",
    "from torch.utils import data\n",
    "import random"
   ]
  },
  {
   "cell_type": "markdown",
   "id": "a1a2a667-933c-46a9-9777-83747283b36a",
   "metadata": {},
   "source": [
    "# mock data"
   ]
  },
  {
   "cell_type": "code",
   "execution_count": 2,
   "id": "30289e62-1972-49da-812e-f32c4566c2ec",
   "metadata": {},
   "outputs": [],
   "source": [
    "def synthetic_data(w, b, num_examples):\n",
    "    \"\"\"Generate y = Xw + b + noise.\n",
    "\n",
    "    Defined in :numref:`sec_utils`\"\"\"\n",
    "    X = torch.normal(0, 1, (num_examples, len(w)))\n",
    "    y = torch.matmul(X, w) + b\n",
    "    y += torch.normal(0, 0.01, y.shape)\n",
    "    return X, torch.reshape(y, (-1, 1))"
   ]
  },
  {
   "cell_type": "code",
   "execution_count": 3,
   "id": "ff54bf0b-70c3-4e92-bae4-b347a2ee4d8a",
   "metadata": {},
   "outputs": [],
   "source": [
    "true_w = torch.tensor([2, -3.4])\n",
    "true_b = 5.2\n",
    "features, labels = synthetic_data(true_w, true_b, 1000)"
   ]
  },
  {
   "cell_type": "markdown",
   "id": "ced38c62-1bda-4380-9b54-53a8a6aec1f1",
   "metadata": {},
   "source": [
    "# Read Data"
   ]
  },
  {
   "cell_type": "code",
   "execution_count": 4,
   "id": "194d0095-3eb6-4db9-93a6-ebaedfc4ae01",
   "metadata": {},
   "outputs": [],
   "source": [
    "def load_array(data_arrays, batch_size, is_train=True):  #@save\n",
    "    dataset = data.TensorDataset(*data_arrays)\n",
    "    return data.DataLoader(dataset, batch_size, shuffle=is_train)"
   ]
  },
  {
   "cell_type": "code",
   "execution_count": 5,
   "id": "feff46c0-cb99-4032-a39c-1b0ab3a9c969",
   "metadata": {},
   "outputs": [],
   "source": [
    "batch_size = 5\n",
    "data_iter = load_array((features, labels), batch_size)"
   ]
  },
  {
   "cell_type": "code",
   "execution_count": 6,
   "id": "cd7a40b9-175d-4ebe-8c9f-b2d2552e7556",
   "metadata": {},
   "outputs": [
    {
     "data": {
      "text/plain": [
       "[tensor([[-0.0089,  1.7604],\n",
       "         [ 0.4471, -1.1932],\n",
       "         [ 1.9845, -0.0067],\n",
       "         [ 0.3872,  0.4186],\n",
       "         [-1.2348,  0.2109]]),\n",
       " tensor([[-0.8077],\n",
       "         [10.1472],\n",
       "         [ 9.1750],\n",
       "         [ 4.5577],\n",
       "         [ 1.9980]])]"
      ]
     },
     "execution_count": 6,
     "metadata": {},
     "output_type": "execute_result"
    }
   ],
   "source": [
    "next(iter(data_iter))"
   ]
  },
  {
   "cell_type": "markdown",
   "id": "bd834929-ef42-4dff-ae75-3b1eeb9a5eac",
   "metadata": {},
   "source": [
    "# define model"
   ]
  },
  {
   "cell_type": "code",
   "execution_count": 7,
   "id": "ceb5e724-97c7-4ce6-a077-8f0acc7b6096",
   "metadata": {},
   "outputs": [],
   "source": [
    "net = nn.Sequential(nn.Linear(2, 1))"
   ]
  },
  {
   "cell_type": "markdown",
   "id": "d717f3bc-f2ec-440a-b1de-59219f909031",
   "metadata": {},
   "source": [
    "## init params"
   ]
  },
  {
   "cell_type": "code",
   "execution_count": 8,
   "id": "05c3d644-27a8-49a5-9b10-b8410ce811f3",
   "metadata": {},
   "outputs": [
    {
     "data": {
      "text/plain": [
       "tensor([0.])"
      ]
     },
     "execution_count": 8,
     "metadata": {},
     "output_type": "execute_result"
    }
   ],
   "source": [
    "net[0].weight.data.normal_(0, 0.01)\n",
    "net[0].bias.data.fill_(0)"
   ]
  },
  {
   "cell_type": "markdown",
   "id": "9a73b024-582d-4323-a5a8-7172f8763a56",
   "metadata": {},
   "source": [
    "## define loss"
   ]
  },
  {
   "cell_type": "code",
   "execution_count": 9,
   "id": "686f6352-add7-4001-acf3-66d59d441fa6",
   "metadata": {},
   "outputs": [],
   "source": [
    "loss = nn.MSELoss()"
   ]
  },
  {
   "cell_type": "markdown",
   "id": "1e1d3def-82c1-4313-86a6-c09bc7667106",
   "metadata": {},
   "source": [
    "## define optimizer"
   ]
  },
  {
   "cell_type": "code",
   "execution_count": 10,
   "id": "31fca922-21ed-4b70-af0d-fb8175a71c8c",
   "metadata": {},
   "outputs": [],
   "source": [
    "learning_rate = 0.03\n",
    "trainer = torch.optim.SGD(net.parameters(), lr=learning_rate)"
   ]
  },
  {
   "cell_type": "markdown",
   "id": "618fac32-5238-42da-8cae-2d0eea67535d",
   "metadata": {},
   "source": [
    "# train model"
   ]
  },
  {
   "cell_type": "code",
   "execution_count": 13,
   "id": "bf7fc7c1-6976-4e6d-8157-9769934d7c70",
   "metadata": {},
   "outputs": [
    {
     "name": "stdout",
     "output_type": "stream",
     "text": [
      "epoch 1, loss 0.000101\n",
      "epoch 2, loss 0.000102\n",
      "epoch 3, loss 0.000101\n",
      "epoch 4, loss 0.000101\n",
      "epoch 5, loss 0.000101\n",
      "epoch 6, loss 0.000102\n",
      "epoch 7, loss 0.000102\n",
      "epoch 8, loss 0.000101\n",
      "epoch 9, loss 0.000103\n",
      "epoch 10, loss 0.000102\n"
     ]
    }
   ],
   "source": [
    "num_epochs = 10\n",
    "for epoch in range(num_epochs):\n",
    "    for X, y in data_iter:\n",
    "        l = loss(net(X) ,y)\n",
    "        trainer.zero_grad()\n",
    "        l.backward()\n",
    "        trainer.step()\n",
    "    l = loss(net(features), labels)\n",
    "    print(f'epoch {epoch + 1}, loss {l:f}')"
   ]
  },
  {
   "cell_type": "code",
   "execution_count": 14,
   "id": "bac493b5",
   "metadata": {},
   "outputs": [
    {
     "name": "stdout",
     "output_type": "stream",
     "text": [
      "w的估计误差： tensor([ 9.5582e-04, -3.0518e-05])\n",
      "b的估计误差： tensor([-0.0009])\n"
     ]
    }
   ],
   "source": [
    "w = net[0].weight.data\n",
    "print('w的估计误差：', true_w - w.reshape(true_w.shape))\n",
    "b = net[0].bias.data\n",
    "print('b的估计误差：', true_b - b)\n"
   ]
  },
  {
   "cell_type": "code",
   "execution_count": null,
   "id": "50beca2f",
   "metadata": {},
   "outputs": [],
   "source": []
  }
 ],
 "metadata": {
  "kernelspec": {
   "display_name": "Python 3 (ipykernel)",
   "language": "python",
   "name": "python3"
  },
  "language_info": {
   "codemirror_mode": {
    "name": "ipython",
    "version": 3
   },
   "file_extension": ".py",
   "mimetype": "text/x-python",
   "name": "python",
   "nbconvert_exporter": "python",
   "pygments_lexer": "ipython3",
   "version": "3.9.19"
  }
 },
 "nbformat": 4,
 "nbformat_minor": 5
}
