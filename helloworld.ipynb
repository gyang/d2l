{
 "cells": [
  {
   "cell_type": "code",
   "execution_count": 1,
   "id": "c0920eb2-a48b-40b4-8f39-0a5952df36d7",
   "metadata": {},
   "outputs": [
    {
     "name": "stdout",
     "output_type": "stream",
     "text": [
      "tensor([[0.8162, 0.1642, 0.9895],\n",
      "        [0.3162, 0.9458, 0.2304],\n",
      "        [0.0139, 0.0577, 0.7923],\n",
      "        [0.1227, 0.2673, 0.8410],\n",
      "        [0.3924, 0.8228, 0.3281]])\n"
     ]
    }
   ],
   "source": [
    "import torch\n",
    "x = torch.rand(5, 3)\n",
    "print(x)"
   ]
  },
  {
   "cell_type": "code",
   "execution_count": null,
   "id": "da0ba91c-d005-472b-bb21-3226af7f2418",
   "metadata": {},
   "outputs": [],
   "source": []
  }
 ],
 "metadata": {
  "kernelspec": {
   "display_name": "Python 3 (ipykernel)",
   "language": "python",
   "name": "python3"
  },
  "language_info": {
   "codemirror_mode": {
    "name": "ipython",
    "version": 3
   },
   "file_extension": ".py",
   "mimetype": "text/x-python",
   "name": "python",
   "nbconvert_exporter": "python",
   "pygments_lexer": "ipython3",
   "version": "3.9.19"
  }
 },
 "nbformat": 4,
 "nbformat_minor": 5
}
